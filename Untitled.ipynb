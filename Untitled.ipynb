{
 "cells": [
  {
   "cell_type": "code",
   "execution_count": 2,
   "metadata": {},
   "outputs": [],
   "source": [
    "import pandas as pd\n",
    "import plotly.express as px\n",
    "\n",
    "import dash\n",
    "import dash_core_components as dcc\n",
    "import dash_html_components as html\n",
    "from dash.dependencies import Input, Output"
   ]
  },
  {
   "cell_type": "code",
   "execution_count": 6,
   "metadata": {},
   "outputs": [],
   "source": [
    "app = dash.Dash(__name__)\n",
    "\n",
    "df = pd.read_csv(\"earthquakes.csv\")\n",
    "\n",
    "# print(df)\n"
   ]
  },
  {
   "cell_type": "code",
   "execution_count": 8,
   "metadata": {},
   "outputs": [
    {
     "ename": "SyntaxError",
     "evalue": "unexpected EOF while parsing (<ipython-input-8-3339d6ae47db>, line 26)",
     "output_type": "error",
     "traceback": [
      "\u001b[1;36m  File \u001b[1;32m\"<ipython-input-8-3339d6ae47db>\"\u001b[1;36m, line \u001b[1;32m26\u001b[0m\n\u001b[1;33m    [Input(component_id='location', component_property='value')])\u001b[0m\n\u001b[1;37m                                                                 ^\u001b[0m\n\u001b[1;31mSyntaxError\u001b[0m\u001b[1;31m:\u001b[0m unexpected EOF while parsing\n"
     ]
    }
   ],
   "source": [
    "app.layout = html.Div([\n",
    "    \n",
    "        \n",
    "    html.H1(\"Earthquake Dashboard with Dash\", style = {'text-align': 'center'}),\n",
    "    html.H4(\"Numbers and facts about earthquakes in the world\", style = {'text-align': 'left'}),\n",
    "\n",
    "    dcc.Dropdown(id='location',\n",
    "                 options = [\n",
    "                     {\"label\": \"Asia\", \"value\": 'Asia'},\n",
    "                     {\"label\": \"Australia\", \"value\": 'Australia'},\n",
    "                     {\"label\": \"Europe\", \"value\": 'Europe'}],\n",
    "                 multi = False,\n",
    "                 value='Asia',\n",
    "                 style = {\"width\": \"40%\"}),\n",
    "    \n",
    "        \n",
    "    dcc.Graph(id='covidplot', figure = {}),\n",
    "    html.Br(),\n",
    "    \n",
    "    dcc.Graph(id='covidplot2', figure = {})\n",
    "])\n",
    "\n",
    "@app.callback(\n",
    "    [Output(component_id='covidplot', component_property='figure'),\n",
    "     Output(component_id='covidplot2', component_property='figure')],\n",
    "    [Input(component_id='location', component_property='value')]\n",
    ")"
   ]
  },
  {
   "cell_type": "code",
   "execution_count": null,
   "metadata": {},
   "outputs": [],
   "source": [
    "def update_graph(option_slctd):\n",
    "    dff = df.copy()\n",
    "    dff = dff[dff[\"location\"] == option_slctd]"
   ]
  },
  {
   "cell_type": "code",
   "execution_count": null,
   "metadata": {},
   "outputs": [],
   "source": [
    "# Plotly Express\n",
    "    fig = px.scatter(dff, x='magnitude', y='depth', color = \"depth\")\n",
    "\n",
    "    fig2 = px.scatter(dff, x=\"latitude\", y=\"longitude\", \n",
    "                     color = \"magnitude\", size = \"depth\")\n",
    "\n",
    "\n",
    "    return fig, fig2"
   ]
  },
  {
   "cell_type": "code",
   "execution_count": 1,
   "metadata": {},
   "outputs": [
    {
     "ename": "NameError",
     "evalue": "name 'app' is not defined",
     "output_type": "error",
     "traceback": [
      "\u001b[1;31m---------------------------------------------------------------------------\u001b[0m",
      "\u001b[1;31mNameError\u001b[0m                                 Traceback (most recent call last)",
      "\u001b[1;32m<ipython-input-1-1a83de4cf0d6>\u001b[0m in \u001b[0;36m<module>\u001b[1;34m\u001b[0m\n\u001b[0;32m      1\u001b[0m \u001b[1;32mif\u001b[0m \u001b[0m__name__\u001b[0m \u001b[1;33m==\u001b[0m \u001b[1;34m'__main__'\u001b[0m\u001b[1;33m:\u001b[0m\u001b[1;33m\u001b[0m\u001b[1;33m\u001b[0m\u001b[0m\n\u001b[1;32m----> 2\u001b[1;33m     \u001b[0mapp\u001b[0m\u001b[1;33m.\u001b[0m\u001b[0mrun_server\u001b[0m\u001b[1;33m(\u001b[0m\u001b[0mdebug\u001b[0m\u001b[1;33m=\u001b[0m\u001b[1;32mFalse\u001b[0m\u001b[1;33m)\u001b[0m\u001b[1;33m\u001b[0m\u001b[1;33m\u001b[0m\u001b[0m\n\u001b[0m",
      "\u001b[1;31mNameError\u001b[0m: name 'app' is not defined"
     ]
    }
   ],
   "source": [
    "if __name__ == '__main__':\n",
    "    app.run_server(debug=False)"
   ]
  },
  {
   "cell_type": "code",
   "execution_count": null,
   "metadata": {},
   "outputs": [],
   "source": []
  }
 ],
 "metadata": {
  "kernelspec": {
   "display_name": "Python 3",
   "language": "python",
   "name": "python3"
  },
  "language_info": {
   "codemirror_mode": {
    "name": "ipython",
    "version": 3
   },
   "file_extension": ".py",
   "mimetype": "text/x-python",
   "name": "python",
   "nbconvert_exporter": "python",
   "pygments_lexer": "ipython3",
   "version": "3.8.5"
  }
 },
 "nbformat": 4,
 "nbformat_minor": 4
}
